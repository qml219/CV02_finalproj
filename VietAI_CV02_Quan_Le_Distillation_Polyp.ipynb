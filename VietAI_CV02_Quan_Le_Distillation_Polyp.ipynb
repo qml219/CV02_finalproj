{
  "cells": [
    {
      "cell_type": "markdown",
      "metadata": {
        "id": "view-in-github",
        "colab_type": "text"
      },
      "source": [
        "<a href=\"https://colab.research.google.com/github/qml219/CV02_finalproj/blob/main/VietAI_CV02_Quan_Le_Distillation_Polyp.ipynb\" target=\"_parent\"><img src=\"https://colab.research.google.com/assets/colab-badge.svg\" alt=\"Open In Colab\"/></a>"
      ]
    },
    {
      "cell_type": "markdown",
      "metadata": {
        "id": "xpzPpy95kIDK"
      },
      "source": [
        "<hr>\n",
        "\n",
        "* Lớp: Computer Vision and Applications - CV02\n",
        "* Tổ chức: VietAI\n"
      ]
    },
    {
      "cell_type": "markdown",
      "metadata": {
        "id": "ud-4HUeo5dFO"
      },
      "source": [
        "#BƯỚC 01: THIẾT LẬP MÔI TRƯỜNG"
      ]
    },
    {
      "cell_type": "markdown",
      "metadata": {
        "id": "Y8mQ9sDe5ld0"
      },
      "source": [
        "### Kiểm tra GPU\n"
      ]
    },
    {
      "cell_type": "code",
      "execution_count": null,
      "metadata": {
        "colab": {
          "base_uri": "https://localhost:8080/"
        },
        "id": "4NA-SPFA6Blx",
        "outputId": "1f71e1ea-2ef7-436c-a67f-26983335e84a"
      },
      "outputs": [
        {
          "output_type": "stream",
          "name": "stdout",
          "text": [
            "Sat May 25 10:28:33 2024       \n",
            "+---------------------------------------------------------------------------------------+\n",
            "| NVIDIA-SMI 535.104.05             Driver Version: 535.104.05   CUDA Version: 12.2     |\n",
            "|-----------------------------------------+----------------------+----------------------+\n",
            "| GPU  Name                 Persistence-M | Bus-Id        Disp.A | Volatile Uncorr. ECC |\n",
            "| Fan  Temp   Perf          Pwr:Usage/Cap |         Memory-Usage | GPU-Util  Compute M. |\n",
            "|                                         |                      |               MIG M. |\n",
            "|=========================================+======================+======================|\n",
            "|   0  NVIDIA A100-SXM4-40GB          Off | 00000000:00:04.0 Off |                    0 |\n",
            "| N/A   32C    P0              47W / 400W |      2MiB / 40960MiB |      0%      Default |\n",
            "|                                         |                      |             Disabled |\n",
            "+-----------------------------------------+----------------------+----------------------+\n",
            "                                                                                         \n",
            "+---------------------------------------------------------------------------------------+\n",
            "| Processes:                                                                            |\n",
            "|  GPU   GI   CI        PID   Type   Process name                            GPU Memory |\n",
            "|        ID   ID                                                             Usage      |\n",
            "|=======================================================================================|\n",
            "|  No running processes found                                                           |\n",
            "+---------------------------------------------------------------------------------------+\n"
          ]
        }
      ],
      "source": [
        "#Trong bài tập này chúng ta cần xử dụng GPU để huấn luyện môn hình (Khuyến nghị các bạn sử dụng V100 để train nhanh hơn).\n",
        "#Trong thời gian đầu các bạn nên chỉ sử dụng cpu để viết code, chỉ kích hoạt GPU khi đã thực hiện giai đoạn train mô hình.\n",
        "!nvidia-smi"
      ]
    },
    {
      "cell_type": "code",
      "execution_count": null,
      "metadata": {
        "colab": {
          "base_uri": "https://localhost:8080/"
        },
        "id": "y_t83MHS1zUF",
        "outputId": "0f44c44d-5b8a-43e4-8a37-62e8102824fe"
      },
      "outputs": [
        {
          "output_type": "stream",
          "name": "stdout",
          "text": [
            "Requirement already satisfied: patool in /usr/local/lib/python3.10/dist-packages (2.2.0)\n",
            "Requirement already satisfied: unrar in /usr/local/lib/python3.10/dist-packages (0.4)\n"
          ]
        }
      ],
      "source": [
        "!rm -rf polyp_dataset_project10\n",
        "!pip install patool\n",
        "!pip install unrar\n"
      ]
    },
    {
      "cell_type": "markdown",
      "metadata": {
        "id": "XYE98LXI6bcq"
      },
      "source": [
        "### Tải tập dữ liệu Polyp - Mount from GG Drive\n"
      ]
    },
    {
      "cell_type": "code",
      "execution_count": null,
      "metadata": {
        "colab": {
          "base_uri": "https://localhost:8080/"
        },
        "id": "ec-5BWHs6QKc",
        "outputId": "27d863e8-eb11-4a3f-9465-8785f6ecbf31"
      },
      "outputs": [
        {
          "output_type": "stream",
          "name": "stdout",
          "text": [
            "Mounted at /content/drive\n"
          ]
        }
      ],
      "source": [
        "from google.colab import drive\n",
        "drive.mount('/content/drive', force_remount=True)"
      ]
    },
    {
      "cell_type": "code",
      "execution_count": null,
      "metadata": {
        "id": "3Wa3iT_vmtLu",
        "colab": {
          "base_uri": "https://localhost:8080/"
        },
        "outputId": "5c40bb77-668f-4818-d3e9-708534710bf9"
      },
      "outputs": [
        {
          "output_type": "stream",
          "name": "stderr",
          "text": [
            "INFO patool: Extracting polyp_dataset_project10.zip ...\n",
            "INFO:patool:Extracting polyp_dataset_project10.zip ...\n",
            "INFO patool: running /usr/bin/7z x -o/content -- polyp_dataset_project10.zip\n",
            "INFO:patool:running /usr/bin/7z x -o/content -- polyp_dataset_project10.zip\n",
            "INFO patool:     with input=''\n",
            "INFO:patool:    with input=''\n"
          ]
        },
        {
          "output_type": "stream",
          "name": "stdout",
          "text": [
            "/content\n"
          ]
        },
        {
          "output_type": "stream",
          "name": "stderr",
          "text": [
            "INFO patool: ... polyp_dataset_project10.zip extracted to `/content'.\n",
            "INFO:patool:... polyp_dataset_project10.zip extracted to `/content'.\n"
          ]
        },
        {
          "output_type": "stream",
          "name": "stdout",
          "text": [
            "Polyp data is extracted at: /content\n"
          ]
        }
      ],
      "source": [
        "import os\n",
        "from zipfile import ZipFile\n",
        "import unrar\n",
        "import patoolib\n",
        "\n",
        "\n",
        "def change_dir(func, original_dir):\n",
        "  os.chdir(original_dir)\n",
        "  func()\n",
        "  os.chdir(original_dir)\n",
        "\n",
        "def extract():\n",
        "  os.chdir('/content/drive/MyDrive/VietAI_CV02')\n",
        "  filename = \"polyp_dataset_project10.zip\"\n",
        "  extract_path = \"/content\"\n",
        "\n",
        "\n",
        "  if not os.path.exists(extract_path + '/' + filename[:-4]):\n",
        "    patoolib.extract_archive(filename, outdir=extract_path)\n",
        "  print(\"Polyp data is extracted at: \" + extract_path)\n",
        "\n",
        "print(os.getcwd())\n",
        "change_dir(extract, os.getcwd())"
      ]
    },
    {
      "cell_type": "markdown",
      "metadata": {
        "id": "BM20lpbr0Lzv"
      },
      "source": [
        "### Cài đặt một số thư viện cần thiết nếu cần"
      ]
    },
    {
      "cell_type": "code",
      "execution_count": null,
      "metadata": {
        "id": "rAQe2kiN0TRK",
        "colab": {
          "base_uri": "https://localhost:8080/"
        },
        "outputId": "688a9b45-0d51-447f-d142-ef70640d45a7"
      },
      "outputs": [
        {
          "output_type": "stream",
          "name": "stdout",
          "text": [
            "Requirement already satisfied: celluloid in /usr/local/lib/python3.10/dist-packages (0.2.0)\n",
            "Requirement already satisfied: matplotlib in /usr/local/lib/python3.10/dist-packages (from celluloid) (3.7.1)\n",
            "Requirement already satisfied: contourpy>=1.0.1 in /usr/local/lib/python3.10/dist-packages (from matplotlib->celluloid) (1.2.1)\n",
            "Requirement already satisfied: cycler>=0.10 in /usr/local/lib/python3.10/dist-packages (from matplotlib->celluloid) (0.12.1)\n",
            "Requirement already satisfied: fonttools>=4.22.0 in /usr/local/lib/python3.10/dist-packages (from matplotlib->celluloid) (4.51.0)\n",
            "Requirement already satisfied: kiwisolver>=1.0.1 in /usr/local/lib/python3.10/dist-packages (from matplotlib->celluloid) (1.4.5)\n",
            "Requirement already satisfied: numpy>=1.20 in /usr/local/lib/python3.10/dist-packages (from matplotlib->celluloid) (1.25.2)\n",
            "Requirement already satisfied: packaging>=20.0 in /usr/local/lib/python3.10/dist-packages (from matplotlib->celluloid) (24.0)\n",
            "Requirement already satisfied: pillow>=6.2.0 in /usr/local/lib/python3.10/dist-packages (from matplotlib->celluloid) (9.4.0)\n",
            "Requirement already satisfied: pyparsing>=2.3.1 in /usr/local/lib/python3.10/dist-packages (from matplotlib->celluloid) (3.1.2)\n",
            "Requirement already satisfied: python-dateutil>=2.7 in /usr/local/lib/python3.10/dist-packages (from matplotlib->celluloid) (2.8.2)\n",
            "Requirement already satisfied: six>=1.5 in /usr/local/lib/python3.10/dist-packages (from python-dateutil>=2.7->matplotlib->celluloid) (1.16.0)\n"
          ]
        }
      ],
      "source": [
        "!pip install celluloid        #Chúng ta cần thư viện này để visualize dữ liện khối 3D ở dạng video"
      ]
    },
    {
      "cell_type": "markdown",
      "metadata": {
        "id": "gnExMYO7ku14"
      },
      "source": [
        "### Khai báo sử dụng một số thư viện cần thiết"
      ]
    },
    {
      "cell_type": "code",
      "execution_count": null,
      "metadata": {
        "id": "LK9VM9wSfuIh",
        "colab": {
          "base_uri": "https://localhost:8080/"
        },
        "outputId": "07d6e5bf-4535-4deb-da96-fd5756f3b455"
      },
      "outputs": [
        {
          "output_type": "stream",
          "name": "stdout",
          "text": [
            "Importing... done!\n"
          ]
        }
      ],
      "source": [
        "from __future__ import absolute_import, division, print_function\n",
        "#%matplotlib notebook\n",
        "\n",
        "import glob\n",
        "import os\n",
        "from os import path\n",
        "import shutil\n",
        "from pathlib import Path              #Xử lý đường dẫn\n",
        "import nibabel as nib                 #Xử lý định dạng NIfTI\n",
        "from tqdm.notebook import tqdm        #Hiện thanh tiến trình\n",
        "import re                             #Biểu thức chính quy (Regular expression)\n",
        "\n",
        "import zipfile                        #Giải nén file zip\n",
        "import json                           #Đọc file json\n",
        "from copy import deepcopy\n",
        "\n",
        "import numpy as np                    #Đại số tuyến tính (linear algebra)\n",
        "import pandas as pd                   #Xử lý dataset, file CSV\n",
        "import argparse\n",
        "import random\n",
        "from scipy import misc\n",
        "from skimage import draw\n",
        "\n",
        "from sklearn.model_selection import train_test_split             #Chia tập dữ liệu train & val\n",
        "from sklearn.metrics import jaccard_score\n",
        "\n",
        "import torch\n",
        "import torch.nn as nn\n",
        "from torch.nn import functional as F\n",
        "from torch.nn import Module\n",
        "from torch.utils.data import DataLoader\n",
        "from torch.utils.data import Dataset\n",
        "from torch import optim\n",
        "\n",
        "import torchvision.transforms as transforms\n",
        "import torchvision\n",
        "from fastprogress import master_bar, progress_bar\n",
        "\n",
        "import matplotlib.pyplot as plt\n",
        "import matplotlib as mpl\n",
        "import matplotlib.image as mpimg\n",
        "from PIL import Image\n",
        "from IPython.display import HTML\n",
        "import cv2\n",
        "import time\n",
        "\n",
        "#Tăng cường dữ liệu\n",
        "import imgaug\n",
        "import imgaug.augmenters as iaa\n",
        "from imgaug.augmentables.segmaps import SegmentationMapsOnImage\n",
        "\n",
        "print('Importing... done!')"
      ]
    },
    {
      "cell_type": "markdown",
      "metadata": {
        "id": "KQb9ya_jAlUt"
      },
      "source": [
        "### Thiết lập một số các tham số quan trọng để chạy mô hình\n"
      ]
    },
    {
      "cell_type": "code",
      "execution_count": null,
      "metadata": {
        "id": "spK6rzW8BDRs"
      },
      "outputs": [],
      "source": [
        "cfg={\n",
        "  \"DIR_IMAGE\": \"./polyp_dataset_project10/images\",\n",
        "  \"TRAIN_JSON\": \"./polyp_dataset_project10/polyp_train.json\",\n",
        "  \"TEST_JSON\": \"./polyp_dataset_project10/polyp_test.json\",\n",
        "  \"VAL_JSON\": \"./polyp_dataset_project10/polyp_valid.json\",\n",
        "\n",
        "  \"IMG_SIZE\": 224,\n",
        "\n",
        "  \"NORMALIZATION\":True,\n",
        "  \"NORMALIZATION_MEAN\": [0.485, 0.456, 0.406],\n",
        "  \"NORMALIZATION_STD\": [0.229, 0.224, 0.225],\n",
        "  \"BATCH_SIZE\": 64,\n",
        "  \"NUM_WORKER\": 8,\n",
        "  \"LEARNING_RATE\": 0.0001,\n",
        "  \"MAX_EPOCHS\": 20,                              # Số lượng epoch tối đa\n",
        "  \"Optimizer\": \"ADAM\",\n",
        "\n",
        "  \"LR_SCHEDULER\": \"MultistepLR\",           #Có thể chọn các giá trị sau : \"ReduceLROnPlateau\",  \"MultiStepLR\", \"LinearLR\" phụ thuộc vào TODO 1:\n",
        "\n",
        "    # Drops learning rate by a factor of gamma once the current number of epochs exceeds each milestone - 6, 7, 7\n",
        "    \"MultistepLR\": {\n",
        "      \"milestones\": [7, 14],\n",
        "      \"gamma\": 0.1,\n",
        "    },\n",
        "  # END SOLUTION\n",
        "\n",
        "  # \"ReduceLROnPlateau\": {\n",
        "  #   \"LEARNING_RATE_SCHEDULE_FACTOR\": 0.1,           # Parameter cho reducing learning rate\n",
        "  #   \"LEARNING_RATE_SCHEDULE_PATIENCE\": 5,           # Parameter cho reducing learning rate\n",
        "  # },\n",
        "}"
      ]
    },
    {
      "cell_type": "markdown",
      "metadata": {
        "id": "yiA5GpoZFMY0"
      },
      "source": [
        "#BƯỚC 02: TÌM HIỂU VÀ TIỀN XỬ LÝ DỮ LIỆU CHO TẬP DỮ LIỆU POLYP"
      ]
    },
    {
      "cell_type": "markdown",
      "metadata": {
        "id": "kd1NcWGFnQqO"
      },
      "source": [
        "###Tiền xử lý dữ liệu\n",
        "\n"
      ]
    },
    {
      "cell_type": "code",
      "execution_count": null,
      "metadata": {
        "id": "ceN88cainYSC"
      },
      "outputs": [],
      "source": [
        "import json\n",
        "import os\n",
        "from PIL import Image\n",
        "import torch\n",
        "from torch.utils.data import Dataset, DataLoader\n",
        "import albumentations as A\n",
        "from albumentations.pytorch import ToTensorV2\n",
        "import numpy as np"
      ]
    },
    {
      "cell_type": "code",
      "execution_count": null,
      "metadata": {
        "id": "5NJrsFqazSu7"
      },
      "outputs": [],
      "source": [
        "# READ JSON method\n",
        "\n",
        "os.chdir('/content')\n",
        "def read_json(filepath):\n",
        "  with open(filepath, 'r') as f:\n",
        "    data = json.load(f)\n",
        "  return data\n",
        "\n",
        "train_data = read_json(cfg['TRAIN_JSON'])\n",
        "val_data = read_json(cfg['VAL_JSON'])\n",
        "test_data = read_json(cfg['TEST_JSON'])"
      ]
    },
    {
      "cell_type": "markdown",
      "metadata": {
        "id": "YHDX6flbnXrt"
      },
      "source": [
        "### Visualize một hình và label"
      ]
    },
    {
      "cell_type": "code",
      "execution_count": null,
      "metadata": {
        "id": "-9B91gNMOclh"
      },
      "outputs": [],
      "source": [
        "# #Định nghĩa một hàm cho việc hiển thị một slide thông qua id của lung và số thứ tự của slide\n",
        "# def VisualizeSlice(cfg,lung_id,slide_id):\n",
        "#   image_path=f\"{cfg['DIR_PREPROCESS']}/images/{lung_id}/{slide_id}.npy\"\n",
        "#   mask_path=f\"{cfg['DIR_PREPROCESS']}/masks/{lung_id}/{slide_id}.npy\"\n",
        "\n",
        "#   ##### TODO 3: Với image_path, mask_path chứa đường dẫn của slice và mask tương ứng lưu trữ ở dạng npy             ######\n",
        "#   ##### Hãy viết code hoàn thiện hàm này để có thể hiện thị ảnh slice và ảnh slice có mask phổi dược overlay trên nó######\n",
        "#   # BEGIN SOLUTION\n",
        "#   slice = np.load(image_path)\n",
        "#   mask = np.load(mask_path)\n",
        "#   # END SOLUTION\n",
        "\n",
        "#   #Hiển thị image và mask\n",
        "#   fig=plt.figure(figsize=(2*10,1*10))\n",
        "#   fig.suptitle(f\"Image {lung_id} and slice {slide_id}\",fontsize=24)\n",
        "#   plt.subplot(1,2,1)\n",
        "#   plt.title(\"Slice Image\")\n",
        "#   plt.axis('off')\n",
        "#   plt.imshow(slice, cmap=\"bone\")\n",
        "#   plt.subplot(1,2,2)\n",
        "#   plt.title(\"Mask\")\n",
        "#   plt.axis('off')\n",
        "#   mask_ = np.ma.masked_where(mask==0, mask)\n",
        "#   plt.imshow(slice, cmap=\"bone\")\n",
        "#   plt.imshow(mask_, cmap=\"autumn\")\n",
        "#   plt.show()\n",
        "\n",
        "# #Hiển thị lung_001 và slice thứ 210 của nó.\n",
        "# VisualizeSlice(cfg,'lung_001',210)"
      ]
    },
    {
      "cell_type": "markdown",
      "metadata": {
        "id": "HMuhQqsgPeIW"
      },
      "source": [
        "#BƯỚC 03: CHUẨN BỊ DATALOADER CHO TRAIN, VAL, TEST DATA"
      ]
    },
    {
      "cell_type": "code",
      "execution_count": null,
      "metadata": {
        "id": "9M_I6Kr7XggV"
      },
      "outputs": [],
      "source": [
        "class PolypDataset(Dataset):\n",
        "    def __init__(self, data, cfg, mode=\"train\", transform=None, augment_params=None):\n",
        "        self.data = data['images']\n",
        "        self.cfg = cfg\n",
        "        self.mode = mode\n",
        "        self.transform = transform\n",
        "        self.class_to_idx = {\"pedunculated\": 0, \"sessile\": 1}\n",
        "\n",
        "        # Default augmentation parameters using albumentations\n",
        "        if augment_params is None:\n",
        "            self.augment_params = A.Compose([\n",
        "                A.HorizontalFlip(p=0.5),\n",
        "                A.RandomCrop(height=cfg['IMG_SIZE'], width=cfg['IMG_SIZE'], p=0.5),\n",
        "                A.GaussianBlur(blur_limit=(3, 7), p=0.2),\n",
        "                A.Affine(scale=(0.8, 1.2), translate_percent=(-0.2, 0.2), rotate=(-25, 25), shear=(-15, 15), p=0.5),\n",
        "            ])\n",
        "        else:\n",
        "            self.augment_params = augment_params\n",
        "\n",
        "    def __len__(self):\n",
        "        return len(self.data)\n",
        "\n",
        "    def __getitem__(self, index):\n",
        "        # Get image path and label\n",
        "        img_path = self.data[index]['image_path']\n",
        "        img_label = self.class_to_idx[self.data[index]['type']]\n",
        "\n",
        "\n",
        "        # Load image\n",
        "        img = np.array(Image.open(img_path).convert('RGB'))\n",
        "\n",
        "        # # Apply augmentations\n",
        "        # if self.mode == 'train' and self.augment_params is not None:\n",
        "        #     img = self.augment_params(image=img)['image']\n",
        "\n",
        "        # Apply transformations\n",
        "        if self.transform:\n",
        "            img = self.transform(image=img)['image']\n",
        "\n",
        "        one_hot_labels = torch.zeros(2)\n",
        "        one_hot_labels[img_label] = 1\n",
        "\n",
        "        return img, one_hot_labels"
      ]
    },
    {
      "cell_type": "code",
      "execution_count": null,
      "metadata": {
        "id": "9aQEhn7lG7qI",
        "colab": {
          "base_uri": "https://localhost:8080/"
        },
        "outputId": "c80f103c-be10-4834-f4a2-cc638768c571"
      },
      "outputs": [
        {
          "output_type": "stream",
          "name": "stdout",
          "text": [
            "-Number of train data: 1200\n",
            "-Number of val data: 400\n",
            "-Number of test data: 400\n"
          ]
        }
      ],
      "source": [
        "#Tạo dataloader cho Train-Val-Test\n",
        "\n",
        "# Define transformations\n",
        "# normalization\n",
        "# resize to fit model input dimensionality\n",
        "preprocess = A.Compose([\n",
        "    A.Resize(256, 256),\n",
        "    A.CenterCrop(cfg['IMG_SIZE'], cfg['IMG_SIZE']),\n",
        "    A.Normalize(mean=cfg['NORMALIZATION_MEAN'], std=cfg['NORMALIZATION_STD']),\n",
        "    ToTensorV2()\n",
        "])\n",
        "\n",
        "train_dataset = PolypDataset(train_data, cfg, mode=\"train\", transform=preprocess)\n",
        "train_dataloader = DataLoader(dataset=train_dataset, batch_size=cfg['BATCH_SIZE'], shuffle=True, num_workers=cfg[\"NUM_WORKER\"], pin_memory=True)\n",
        "print(f\"-Number of train data: {len(train_dataset)}\")\n",
        "\n",
        "val_dataset = PolypDataset(val_data, cfg, mode=\"val\", transform=preprocess)\n",
        "val_dataloader = DataLoader(dataset=val_dataset, batch_size=cfg['BATCH_SIZE'], shuffle=False, num_workers=cfg[\"NUM_WORKER\"], pin_memory=True)\n",
        "print(f\"-Number of val data: {len(val_dataset)}\")\n",
        "\n",
        "test_dataset = PolypDataset(test_data, cfg, mode=\"test\", transform=preprocess)\n",
        "test_dataloader = DataLoader(dataset=test_dataset, batch_size=cfg['BATCH_SIZE'], shuffle=False, num_workers=cfg[\"NUM_WORKER\"], pin_memory=True)\n",
        "print(f\"-Number of test data: {len(test_dataset)}\")\n"
      ]
    },
    {
      "cell_type": "code",
      "source": [
        "from torch.utils.data.sampler import SubsetRandomSampler"
      ],
      "metadata": {
        "id": "zyaKrez-ZMQI"
      },
      "execution_count": null,
      "outputs": []
    },
    {
      "cell_type": "code",
      "source": [
        "count_zero = 0\n",
        "count_one = 0\n",
        "\n",
        "os.chdir('/content/polyp_dataset_project10')\n",
        "for batch, (images, labels) in enumerate(train_dataloader):\n",
        "  class_labels = torch.argmax(labels, dim=1)\n",
        "  count_zero += (class_labels == 0).sum().item()\n",
        "count_one = len(train_dataset) - count_zero\n",
        "print(count_one, count_zero)"
      ],
      "metadata": {
        "colab": {
          "base_uri": "https://localhost:8080/"
        },
        "id": "RXJ5EBDpWKTv",
        "outputId": "86d095a6-0f6b-46ca-b659-46f269538130"
      },
      "execution_count": null,
      "outputs": [
        {
          "output_type": "stream",
          "name": "stdout",
          "text": [
            "1065 135\n"
          ]
        }
      ]
    },
    {
      "cell_type": "code",
      "source": [
        "from torch.utils.data.sampler import SubsetRandomSampler\n",
        "\n",
        "import numpy as np\n",
        "def get_balanced_sampler(dataset, train_ratio=1.0):\n",
        "\n",
        "  labels = []\n",
        "  balanced_indices = []\n",
        "\n",
        "  for index in range(len(dataset)):\n",
        "    img, label = dataset.__getitem__(index)\n",
        "    label = torch.where(label == 1)[0].item()\n",
        "    labels.append(label)\n",
        "\n",
        "  labels = np.array(labels)\n",
        "  classes = np.unique(labels)\n",
        "  class_indices = [np.where(labels == c)[0] for c in classes]\n",
        "\n",
        "  for class_idx in class_indices:\n",
        "    n_samples = int(len(class_idx) * train_ratio)\n",
        "    sampled_indices = np.random.choice(class_idx, n_samples, replace=False)\n",
        "    balanced_indices.extend(sampled_indices)\n",
        "\n",
        "  return SubsetRandomSampler(balanced_indices)"
      ],
      "metadata": {
        "id": "FuRbLEjcrLA1"
      },
      "execution_count": null,
      "outputs": []
    },
    {
      "cell_type": "code",
      "execution_count": null,
      "metadata": {
        "id": "oENKsR6Suc28"
      },
      "outputs": [],
      "source": [
        "# ResNet50 from torchvision.models\n",
        "from torchvision import models"
      ]
    },
    {
      "cell_type": "markdown",
      "metadata": {
        "id": "fo-IJ79bbe2k"
      },
      "source": [
        "#BƯỚC 05: ĐỊNH NGHĨA LOSS FUNCTION, METRICS, OPTIMIZER, SCHEDULE"
      ]
    },
    {
      "cell_type": "code",
      "execution_count": null,
      "metadata": {
        "id": "BGIyo9SvvRMT"
      },
      "outputs": [],
      "source": [
        "loss_criteria = nn.CrossEntropyLoss()\n",
        "optimizer_adam = lambda model: optim.Adam(model.parameters())"
      ]
    },
    {
      "cell_type": "markdown",
      "metadata": {
        "id": "r_gUhpmskp75"
      },
      "source": [
        "#BƯỚC 06: ĐỊNH NGHĨA CÁC BƯỚC CƠ SỞ ĐỂ TRAIN, VALID VÀ TEST"
      ]
    },
    {
      "cell_type": "code",
      "execution_count": null,
      "metadata": {
        "id": "Z1NqF0rik9wD"
      },
      "outputs": [],
      "source": [
        "#Train phase\n",
        "def train_epoch(epoch, model, train_dataloader, device, loss_criteria, optimizer, mb, train_ratio=1.0):\n",
        "\n",
        "    # Chuyển model sang training mode\n",
        "    model.train()\n",
        "    training_loss = 0 # Lưu trữ tổng của training losses\n",
        "    len_training_set = 0\n",
        "\n",
        "    if train_ratio < 1.0:\n",
        "      sampler = get_balanced_sampler(train_dataloader.dataset, train_ratio)\n",
        "      train_dataloader = DataLoader(train_dataloader.dataset,\n",
        "                                        batch_size=train_dataloader.batch_size,\n",
        "                                        sampler=sampler,\n",
        "                                        num_workers=train_dataloader.num_workers,\n",
        "                                        pin_memory=True)\n",
        "\n",
        "    # print(total_training)\n",
        "\n",
        "    images, labels, loss = None, None, 0.0\n",
        "\n",
        "    # Với mỗi batch\n",
        "    for batch, (images, labels) in enumerate(progress_bar(train_dataloader, parent=mb)):\n",
        "\n",
        "\n",
        "        # Di chuyển images, masks đến device (GPU)\n",
        "        images = images.to(device)\n",
        "        labels = labels.to(device)\n",
        "\n",
        "        # Xóa gradient trước\n",
        "        optimizer.zero_grad()\n",
        "\n",
        "        # Feed forward the model\n",
        "        pred = model(images)\n",
        "\n",
        "\n",
        "        loss = loss_criteria(pred, labels)\n",
        "\n",
        "        # Back propagation\n",
        "        loss.backward()\n",
        "\n",
        "        # Cập nhât parameters\n",
        "        optimizer.step()\n",
        "\n",
        "        # Cập nhât training loss sau mỗi batch\n",
        "        training_loss += loss.item() * images.size(0)\n",
        "\n",
        "        mb.child.comment = f'Training loss {training_loss/(batch+1)}'\n",
        "\n",
        "        len_training_set += images.size(0)\n",
        "\n",
        "    del images, labels, loss\n",
        "    if torch.cuda.is_available(): torch.cuda.empty_cache()\n",
        "\n",
        "    # Trả lại training loss\n",
        "    return training_loss / len_training_set"
      ]
    },
    {
      "cell_type": "code",
      "execution_count": null,
      "metadata": {
        "id": "LIbLt0sPlTu9"
      },
      "outputs": [],
      "source": [
        "#Evaluation phase\n",
        "def evaluation_epoch(epoch, model, val_dataloader, device, loss_criteria, mb):\n",
        "\n",
        "    # Chuyển model sang training mode\n",
        "    model.eval()\n",
        "\n",
        "    val_loss = 0                                   # Tổng loss của model trên validation set\n",
        "    batch_corrects = 0\n",
        "    len_validation_set = 0\n",
        "\n",
        "    with torch.no_grad(): # Tắt gradient\n",
        "        # Với mỗi batch\n",
        "        for step, (images, labels) in enumerate(progress_bar(val_dataloader, parent=mb)):\n",
        "            # Di chuyển images, masks đến device (GPU)\n",
        "            images = images.to(device)\n",
        "            labels = labels.to(device)\n",
        "\n",
        "            # Feed forward the model\n",
        "            pred = model(images)\n",
        "            loss = loss_criteria(pred, labels)\n",
        "\n",
        "            # Count correct classfication\n",
        "            # CrossEntropyLoss\n",
        "            _, pred = torch.max(pred, 1)\n",
        "            # pred = (pred > 0.5).float()\n",
        "            batch_corrects += torch.sum(pred == torch.argmax(labels, dim=1))\n",
        "\n",
        "            len_validation_set += images.size(0)\n",
        "\n",
        "            # Cập nhât validation loss sau mỗi batch\n",
        "            val_loss += loss.item() * images.size(0)\n",
        "            mb.child.comment = f'Validation loss {val_loss/(step+1)}'\n",
        "\n",
        "    # Xóa bộ nhớ\n",
        "    del images, labels, loss\n",
        "    if torch.cuda.is_available(): torch.cuda.empty_cache()\n",
        "    # Trả lại validation loss và metric score accuracy\n",
        "    return val_loss / len_validation_set, batch_corrects.cpu() / len_validation_set"
      ]
    },
    {
      "cell_type": "code",
      "execution_count": null,
      "metadata": {
        "id": "rDNDRg4Smvoi"
      },
      "outputs": [],
      "source": [
        "import torch\n",
        "\n",
        "def full_training(model, save_path, max_epochs, train_dataloader, val_dataloader, optimizer, loss_criteria, lr_scheduler, device, train_ratio=1.0):\n",
        "    best_acc = 0\n",
        "    training_losses = []\n",
        "    validation_losses = []\n",
        "    validation_score = []\n",
        "\n",
        "    # Config progress bar\n",
        "    mb = master_bar(range(max_epochs))\n",
        "    mb.names = ['Training loss', 'Validation loss', 'Validation Accuracy']\n",
        "    x = []\n",
        "\n",
        "    # Training mỗi epoch\n",
        "    for epoch in mb:\n",
        "        mb.main_bar.comment = f'Best accuracy score: {best_acc}'\n",
        "        x.append(epoch)\n",
        "\n",
        "        # Train\n",
        "        train_loss = train_epoch(epoch, model, train_dataloader, device, loss_criteria, optimizer, mb, train_ratio)\n",
        "        mb.write('Finish training epoch {} with loss {:.4f}'.format(epoch, train_loss))\n",
        "        training_losses.append(train_loss)\n",
        "\n",
        "        # Clear cache after each training epoch\n",
        "        torch.cuda.empty_cache()\n",
        "\n",
        "        # Evaluate\n",
        "        val_loss, new_accuracy = evaluation_epoch(epoch, model, val_dataloader, device, loss_criteria, mb)\n",
        "        mb.write('Finish validation epoch {} with loss {:.4f} and score {:.4f}'.format(epoch, val_loss, new_accuracy))\n",
        "        validation_losses.append(val_loss)\n",
        "        validation_score.append(new_accuracy)\n",
        "\n",
        "        # Clear cache after each evaluation epoch\n",
        "        torch.cuda.empty_cache()\n",
        "\n",
        "        # Cập nhật learning rate\n",
        "        lr_scheduler.step(val_loss)\n",
        "\n",
        "        # Cập nhật training chart\n",
        "        mb.update_graph([[x, training_losses], [x, validation_losses], [x, validation_score]], [0, max_epochs], [0, 1])\n",
        "\n",
        "        # Lưu model\n",
        "        if best_acc < new_accuracy:\n",
        "            mb.write(f\"Improve validation accuracy from {best_acc} to {new_accuracy}\")\n",
        "            best_acc = new_accuracy\n",
        "\n",
        "            # Lưu model: https://pytorch.org/tutorials/beginner/saving_loading_models.html\n",
        "            torch.save(model.state_dict(), save_path)\n",
        "\n",
        "        # Delete unnecessary variables to save GPU RAM\n",
        "        del train_loss, val_loss, new_accuracy\n",
        "\n",
        "    # Clear cache one last time\n",
        "    torch.cuda.empty_cache()\n"
      ]
    },
    {
      "cell_type": "code",
      "execution_count": null,
      "metadata": {
        "id": "26WMWJT7cdjD"
      },
      "outputs": [],
      "source": [
        "def set_seed(seed):\n",
        "    torch.manual_seed(seed)\n",
        "    if torch.cuda.is_available():\n",
        "        torch.cuda.manual_seed(seed)\n",
        "        torch.cuda.manual_seed_all(seed)\n",
        "    np.random.seed(seed)\n",
        "    random.seed(seed)\n",
        "    torch.backends.cudnn.deterministic = True\n",
        "    torch.backends.cudnn.benchmark = False"
      ]
    },
    {
      "cell_type": "markdown",
      "metadata": {
        "id": "JlxucP4knz2x"
      },
      "source": [
        "#BƯỚC 7: HUẤN LUYỆN MÔ HÌNH"
      ]
    },
    {
      "cell_type": "code",
      "execution_count": null,
      "metadata": {
        "id": "8KVMJt_fyv4Y"
      },
      "outputs": [],
      "source": [
        "class CustomResNet50(nn.Module):\n",
        "  def __init__(self, num_classes=2):\n",
        "    super().__init__()\n",
        "    self.model = models.resnet50(weights=\"ResNet50_Weights.IMAGENET1K_V2\")\n",
        "    self.model.fc = nn.Linear(self.model.fc.in_features, num_classes)\n",
        "\n",
        "  def forward(self, input):\n",
        "    return self.model(input)"
      ]
    },
    {
      "cell_type": "code",
      "execution_count": null,
      "metadata": {
        "id": "2Ldtob_uywzX"
      },
      "outputs": [],
      "source": [
        "device = 'cuda' if torch.cuda.is_available() else 'cpu'\n",
        "set_seed(42)\n",
        "model = CustomResNet50().to(device)"
      ]
    },
    {
      "cell_type": "code",
      "execution_count": null,
      "metadata": {
        "id": "N1mEf61O0IKg",
        "colab": {
          "base_uri": "https://localhost:8080/"
        },
        "outputId": "e0ca7e6e-f8d8-489e-9c88-4d347dda0ca0"
      },
      "outputs": [
        {
          "output_type": "stream",
          "name": "stdout",
          "text": [
            "Number of trainable parameters: 23512130\n"
          ]
        }
      ],
      "source": [
        "print_num_params = lambda model: print(f'Number of trainable parameters: {sum((p.numel() for p in model.parameters() if p.requires_grad is True))}')\n",
        "print_num_params(model)"
      ]
    },
    {
      "cell_type": "code",
      "execution_count": null,
      "metadata": {
        "id": "uxhkbMtTn_jc",
        "colab": {
          "base_uri": "https://localhost:8080/",
          "height": 1000
        },
        "outputId": "e2b00900-4586-4721-f396-52769cdd9a6a"
      },
      "outputs": [
        {
          "output_type": "stream",
          "name": "stdout",
          "text": [
            "/content/polyp_dataset_project10\n"
          ]
        },
        {
          "output_type": "display_data",
          "data": {
            "text/plain": [
              "<IPython.core.display.HTML object>"
            ],
            "text/html": [
              "\n",
              "<style>\n",
              "    /* Turns off some styling */\n",
              "    progress {\n",
              "        /* gets rid of default border in Firefox and Opera. */\n",
              "        border: none;\n",
              "        /* Needs to be in here for Safari polyfill so background images work as expected. */\n",
              "        background-size: auto;\n",
              "    }\n",
              "    progress:not([value]), progress:not([value])::-webkit-progress-bar {\n",
              "        background: repeating-linear-gradient(45deg, #7e7e7e, #7e7e7e 10px, #5c5c5c 10px, #5c5c5c 20px);\n",
              "    }\n",
              "    .progress-bar-interrupted, .progress-bar-interrupted::-webkit-progress-bar {\n",
              "        background: #F44336;\n",
              "    }\n",
              "</style>\n"
            ]
          },
          "metadata": {}
        },
        {
          "output_type": "display_data",
          "data": {
            "text/plain": [
              "<IPython.core.display.HTML object>"
            ],
            "text/html": [
              "Finish training epoch 0 with loss 0.3557<p>Finish validation epoch 0 with loss 12.0346 and score 0.8775<p>Improve validation accuracy from 0 to 0.8774999976158142<p>Finish training epoch 1 with loss 0.2963<p>Finish validation epoch 1 with loss 0.3730 and score 0.8700<p>Finish training epoch 2 with loss 0.2402<p>Finish validation epoch 2 with loss 0.4808 and score 0.8450<p>Finish training epoch 3 with loss 0.1191<p>Finish validation epoch 3 with loss 0.6111 and score 0.9000<p>Improve validation accuracy from 0.8774999976158142 to 0.8999999761581421<p>Finish training epoch 4 with loss 0.0457<p>Finish validation epoch 4 with loss 0.7263 and score 0.8925<p>Finish training epoch 5 with loss 0.0706<p>Finish validation epoch 5 with loss 0.5181 and score 0.8925<p>Finish training epoch 6 with loss 0.0738<p>Finish validation epoch 6 with loss 0.6293 and score 0.8950<p>Finish training epoch 7 with loss 0.0709<p>Finish validation epoch 7 with loss 0.6099 and score 0.9000<p>Finish training epoch 8 with loss 0.0256<p>Finish validation epoch 8 with loss 0.5275 and score 0.9050<p>Improve validation accuracy from 0.8999999761581421 to 0.9049999713897705<p>Finish training epoch 9 with loss 0.0063<p>Finish validation epoch 9 with loss 0.5452 and score 0.9000<p>Finish training epoch 10 with loss 0.0037<p>Finish validation epoch 10 with loss 0.5669 and score 0.8975<p>Finish training epoch 11 with loss 0.0030<p>Finish validation epoch 11 with loss 0.5844 and score 0.8975<p>Finish training epoch 12 with loss 0.0021<p>Finish validation epoch 12 with loss 0.5879 and score 0.9050<p>Finish training epoch 13 with loss 0.0019<p>Finish validation epoch 13 with loss 0.5968 and score 0.9000<p>Finish training epoch 14 with loss 0.0018<p>Finish validation epoch 14 with loss 0.6085 and score 0.9050<p>Finish training epoch 15 with loss 0.0022<p>Finish validation epoch 15 with loss 0.5997 and score 0.9050<p>Finish training epoch 16 with loss 0.0014<p>Finish validation epoch 16 with loss 0.6033 and score 0.9025<p>Finish training epoch 17 with loss 0.0017<p>Finish validation epoch 17 with loss 0.6058 and score 0.9050<p>Finish training epoch 18 with loss 0.0016<p>Finish validation epoch 18 with loss 0.6008 and score 0.9025<p>Finish training epoch 19 with loss 0.0015<p>Finish validation epoch 19 with loss 0.6039 and score 0.9050"
            ]
          },
          "metadata": {}
        },
        {
          "output_type": "display_data",
          "data": {
            "text/plain": [
              "<Figure size 600x400 with 1 Axes>"
            ],
            "image/png": "[encoded data removed]"
          },
          "metadata": {}
        }
      ],
      "source": [
        "save_path = \"../drive/MyDrive/VietAI_CV02/resnet.pth\"\n",
        "\n",
        "set_seed(42)\n",
        "os.chdir('/content')\n",
        "os.chdir('./polyp_dataset_project10')\n",
        "print(os.getcwd())\n",
        "model_optimizer = optimizer_adam(model)\n",
        "lr_scheduler = optim.lr_scheduler.ReduceLROnPlateau(model_optimizer, mode='min', factor=0.1, patience=5)\n",
        "full_training(model, save_path,cfg['MAX_EPOCHS'], train_dataloader, val_dataloader, model_optimizer, loss_criteria, lr_scheduler, device)\n",
        "os.chdir('/content')"
      ]
    },
    {
      "cell_type": "markdown",
      "metadata": {
        "id": "yEfxCRCOeKTN"
      },
      "source": [
        "# EfficientNet B1"
      ]
    },
    {
      "cell_type": "code",
      "execution_count": null,
      "metadata": {
        "id": "QiloHWTrxqJK"
      },
      "outputs": [],
      "source": [
        "class CustomEfficientNet_B1(nn.Module):\n",
        "  def __init__(self, num_classes=2):\n",
        "    super().__init__()\n",
        "    self.model = models.efficientnet_b4(weights=\"EfficientNet_B4_Weights.IMAGENET1K_V1\")\n",
        "    self.model.classifier = nn.Sequential(nn.Dropout(self.model.classifier[0].p, inplace=True),\n",
        "                                          nn.Linear(self.model.classifier[1].in_features, num_classes))\n",
        "\n",
        "  def forward(self, input):\n",
        "    return self.model(input)"
      ]
    },
    {
      "cell_type": "code",
      "execution_count": null,
      "metadata": {
        "id": "uNTph7gra-Oj",
        "colab": {
          "base_uri": "https://localhost:8080/"
        },
        "outputId": "f730f42f-4ac4-4bb6-a6a4-cd6797c3937a"
      },
      "outputs": [
        {
          "output_type": "stream",
          "name": "stdout",
          "text": [
            "Number of trainable parameters: 17552202 parameters\n"
          ]
        }
      ],
      "source": [
        "set_seed(42)\n",
        "model_2 = CustomEfficientNet_B1().to(device)\n",
        "print(f'Number of trainable parameters: {sum((layer.numel() for layer in model_2.parameters() if layer.requires_grad))} parameters')"
      ]
    },
    {
      "cell_type": "code",
      "execution_count": null,
      "metadata": {
        "id": "DUpdx9x2Hgx0",
        "colab": {
          "base_uri": "https://localhost:8080/",
          "height": 1000
        },
        "outputId": "76de6fdf-fc61-4c83-fa51-3e59d7f25825"
      },
      "outputs": [
        {
          "output_type": "display_data",
          "data": {
            "text/plain": [
              "<IPython.core.display.HTML object>"
            ],
            "text/html": [
              "\n",
              "<style>\n",
              "    /* Turns off some styling */\n",
              "    progress {\n",
              "        /* gets rid of default border in Firefox and Opera. */\n",
              "        border: none;\n",
              "        /* Needs to be in here for Safari polyfill so background images work as expected. */\n",
              "        background-size: auto;\n",
              "    }\n",
              "    progress:not([value]), progress:not([value])::-webkit-progress-bar {\n",
              "        background: repeating-linear-gradient(45deg, #7e7e7e, #7e7e7e 10px, #5c5c5c 10px, #5c5c5c 20px);\n",
              "    }\n",
              "    .progress-bar-interrupted, .progress-bar-interrupted::-webkit-progress-bar {\n",
              "        background: #F44336;\n",
              "    }\n",
              "</style>\n"
            ]
          },
          "metadata": {}
        },
        {
          "output_type": "display_data",
          "data": {
            "text/plain": [
              "<IPython.core.display.HTML object>"
            ],
            "text/html": [
              "Finish training epoch 0 with loss 0.3893<p>Finish validation epoch 0 with loss 0.3274 and score 0.8775<p>Improve validation accuracy from 0 to 0.8774999976158142<p>Finish training epoch 1 with loss 0.2144<p>Finish validation epoch 1 with loss 0.3099 and score 0.9050<p>Improve validation accuracy from 0.8774999976158142 to 0.9049999713897705<p>Finish training epoch 2 with loss 0.0988<p>Finish validation epoch 2 with loss 0.4325 and score 0.9000<p>Finish training epoch 3 with loss 0.0368<p>Finish validation epoch 3 with loss 0.4097 and score 0.9000<p>Finish training epoch 4 with loss 0.0153<p>Finish validation epoch 4 with loss 0.4990 and score 0.9200<p>Improve validation accuracy from 0.9049999713897705 to 0.9200000166893005<p>Finish training epoch 5 with loss 0.0093<p>Finish validation epoch 5 with loss 0.5562 and score 0.9225<p>Improve validation accuracy from 0.9200000166893005 to 0.9225000143051147<p>Finish training epoch 6 with loss 0.0075<p>Finish validation epoch 6 with loss 0.6933 and score 0.9225<p>Finish training epoch 7 with loss 0.0032<p>Finish validation epoch 7 with loss 0.6919 and score 0.9225<p>Finish training epoch 8 with loss 0.0027<p>Finish validation epoch 8 with loss 0.6541 and score 0.9200<p>Finish training epoch 9 with loss 0.0025<p>Finish validation epoch 9 with loss 0.6801 and score 0.9225<p>Finish training epoch 10 with loss 0.0015<p>Finish validation epoch 10 with loss 0.7193 and score 0.9125<p>Finish training epoch 11 with loss 0.0030<p>Finish validation epoch 11 with loss 0.6866 and score 0.9125<p>Finish training epoch 12 with loss 0.0011<p>Finish validation epoch 12 with loss 0.7361 and score 0.9125<p>Finish training epoch 13 with loss 0.0079<p>Finish validation epoch 13 with loss 0.8307 and score 0.9100<p>Finish training epoch 14 with loss 0.0021<p>Finish validation epoch 14 with loss 0.7891 and score 0.9150<p>Finish training epoch 15 with loss 0.0028<p>Finish validation epoch 15 with loss 0.7980 and score 0.9050<p>Finish training epoch 16 with loss 0.0148<p>Finish validation epoch 16 with loss 0.8223 and score 0.9175<p>Finish training epoch 17 with loss 0.0142<p>Finish validation epoch 17 with loss 1.0053 and score 0.9100<p>Finish training epoch 18 with loss 0.0340<p>Finish validation epoch 18 with loss 0.9926 and score 0.8900<p>Finish training epoch 19 with loss 0.0522<p>Finish validation epoch 19 with loss 0.6173 and score 0.8750"
            ]
          },
          "metadata": {}
        },
        {
          "output_type": "display_data",
          "data": {
            "text/plain": [
              "<Figure size 600x400 with 1 Axes>"
            ],
            "image/png": "[encoded data removed]"
          },
          "metadata": {}
        }
      ],
      "source": [
        "save_path= '../drive/MyDrive/VietAI_CV02/efficientnet.pth'\n",
        "set_seed(42)\n",
        "os.chdir('/content')\n",
        "os.chdir('./polyp_dataset_project10')\n",
        "model_2_optimizer = optimizer_adam(model_2)\n",
        "full_training(model_2, save_path, cfg['MAX_EPOCHS'], train_dataloader, val_dataloader, model_2_optimizer, loss_criteria, lr_scheduler, device)\n",
        "os.chdir('/content')"
      ]
    },
    {
      "cell_type": "code",
      "execution_count": null,
      "metadata": {
        "id": "J9ptj1wdeP3-"
      },
      "outputs": [],
      "source": [
        "# Testing Phase"
      ]
    },
    {
      "cell_type": "code",
      "execution_count": null,
      "metadata": {
        "id": "euDsisCLiTKs"
      },
      "outputs": [],
      "source": [
        "def testing_phase(model, data_loader):\n",
        "\n",
        "  model.eval() # Set mode to evaluation to disable stochastic operations like Dropouts and Batch Normalization\n",
        "\n",
        "  corrects = 0\n",
        "  len_test = 0\n",
        "\n",
        "  for batch, (images, labels) in enumerate(data_loader):\n",
        "\n",
        "    images = images.to(device)\n",
        "    labels = labels.to(device)\n",
        "\n",
        "    outputs = model(images)\n",
        "\n",
        "    preds = torch.argmax(outputs, dim=1)\n",
        "    labels = torch.argmax(labels, dim=1)\n",
        "    corrects += (preds == labels).sum().item()\n",
        "    len_test += images.size(0)\n",
        "\n",
        "  del images, labels, outputs, preds\n",
        "\n",
        "  return corrects / len_test"
      ]
    },
    {
      "cell_type": "code",
      "source": [
        "def testing_phase_single_class(model, data_loader, target_class_idx):\n",
        "\n",
        "  model.eval() # Set mode to evaluation to disable stochastic operations like Dropouts and Batch Normalization\n",
        "\n",
        "  corrects = 0\n",
        "  len_test = 0\n",
        "\n",
        "  for batch, (images, labels) in enumerate(data_loader):\n",
        "\n",
        "    images = images.to(device)\n",
        "    labels = labels.to(device)\n",
        "\n",
        "    outputs = model(images)\n",
        "\n",
        "    preds = torch.argmax(outputs, dim=1)\n",
        "    labels = torch.argmax(labels, dim=1)\n",
        "    corrects += torch.where((preds == labels) & (labels == target_class_idx), 1.0, 0.0).sum().item()\n",
        "    len_test += (labels == target_class_idx).sum().item()\n",
        "\n",
        "  del images, labels, outputs, preds\n",
        "\n",
        "  return corrects / len_test"
      ],
      "metadata": {
        "id": "WnQoWZdo424b"
      },
      "execution_count": null,
      "outputs": []
    },
    {
      "cell_type": "code",
      "execution_count": null,
      "metadata": {
        "id": "nCOBeGCUyBJG"
      },
      "outputs": [],
      "source": [
        "  if torch.cuda.is_available(): torch.cuda.empty_cache()"
      ]
    },
    {
      "cell_type": "code",
      "execution_count": null,
      "metadata": {
        "colab": {
          "base_uri": "https://localhost:8080/"
        },
        "id": "R6cxFQP5kGhe",
        "outputId": "95bff68e-0620-4b1a-fe96-f358499047ed"
      },
      "outputs": [
        {
          "output_type": "execute_result",
          "data": {
            "text/plain": [
              "<All keys matched successfully>"
            ]
          },
          "metadata": {},
          "execution_count": 33
        }
      ],
      "source": [
        "os.chdir('/content')\n",
        "\n",
        "device = \"cuda\" if torch.cuda.is_available() else \"cpu\"\n",
        "set_seed(42)\n",
        "model = CustomResNet50().to(device) # Create an instance of ResNet50\n",
        "model_2 = CustomEfficientNet_B1().to(device)  # Create an instance of EfficientNet-B0\n",
        "\n",
        "best_resnet_dict = torch.load('./drive/MyDrive/VietAI_CV02/resnet.pth')\n",
        "best_efficientnet_b0_dict = torch.load('./drive/MyDrive/VietAI_CV02/efficientnet.pth')\n",
        "\n",
        "model.load_state_dict(best_resnet_dict)\n",
        "model_2.load_state_dict(best_efficientnet_b0_dict)"
      ]
    },
    {
      "cell_type": "code",
      "execution_count": null,
      "metadata": {
        "colab": {
          "base_uri": "https://localhost:8080/"
        },
        "id": "V_xN0_mY2HTz",
        "outputId": "1e79b21c-657a-4999-be6b-38f43c152c67"
      },
      "outputs": [
        {
          "output_type": "stream",
          "name": "stdout",
          "text": [
            "Testing Accuracy on class 0 - Resnet50: 0.4524%\n",
            "Testing Accuracy on class 0- EfficientNet B4: 0.3095%\n",
            "Testing Accuracy on class 1 - Resnet50: 0.9749%\n",
            "Testing Accuracy on class 1- EfficientNet B4: 0.9804%\n",
            "Testing Accuracy - Resnet50: 0.9200%\n",
            "Testing Accuracy - EfficientNet B4: 0.9100%\n"
          ]
        }
      ],
      "source": [
        "os.chdir('/content/polyp_dataset_project10')\n",
        "print(f'Testing Accuracy on class 0 - Resnet50: {testing_phase_single_class(model, test_dataloader, target_class_idx=0):.4f}%')\n",
        "print(f'Testing Accuracy on class 0- EfficientNet B4: {testing_phase_single_class(model_2, test_dataloader, target_class_idx=0):.4f}%')\n",
        "\n",
        "print(f'Testing Accuracy on class 1 - Resnet50: {testing_phase_single_class(model, test_dataloader, target_class_idx=1):.4f}%')\n",
        "print(f'Testing Accuracy on class 1- EfficientNet B4: {testing_phase_single_class(model_2, test_dataloader, target_class_idx=1):.4f}%')\n",
        "\n",
        "print(f'Testing Accuracy - Resnet50: {testing_phase(model, test_dataloader):.4f}%')\n",
        "print(f'Testing Accuracy - EfficientNet B4: {testing_phase(model_2, test_dataloader):.4f}%')"
      ]
    },
    {
      "cell_type": "markdown",
      "metadata": {
        "id": "NfrpLHJi_pMY"
      },
      "source": [
        "# Distilling MobileNet with EfficientNet B4"
      ]
    },
    {
      "cell_type": "code",
      "execution_count": null,
      "metadata": {
        "id": "IDzloA6d96L3"
      },
      "outputs": [],
      "source": [
        "class CustomMobileNet(nn.Module):\n",
        "  def __init__(self, num_classes=2):\n",
        "    super().__init__()\n",
        "    self.model = models.mobilenet_v2(weights='MobileNet_V2_Weights.IMAGENET1K_V1')\n",
        "    self.model.classifier[1] = nn.Linear(self.model.classifier[1].in_features, num_classes)\n",
        "\n",
        "  def forward(self, inputs):\n",
        "    return self.model(inputs)"
      ]
    },
    {
      "cell_type": "code",
      "execution_count": null,
      "metadata": {
        "colab": {
          "base_uri": "https://localhost:8080/"
        },
        "id": "wgvEbXbw-cGH",
        "outputId": "b4bb45b1-3054-4960-8157-ed7a2597c957"
      },
      "outputs": [
        {
          "output_type": "stream",
          "name": "stdout",
          "text": [
            "Number of trainable parameters: 2226434 parameters\n",
            "64\n"
          ]
        }
      ],
      "source": [
        "set_seed(42)\n",
        "model_3 = CustomMobileNet()\n",
        "print(f'Number of trainable parameters: {sum((layer.numel() for layer in model_3.parameters() if layer.requires_grad))} parameters')\n",
        "print(cfg['BATCH_SIZE'])"
      ]
    },
    {
      "cell_type": "code",
      "execution_count": null,
      "metadata": {
        "colab": {
          "base_uri": "https://localhost:8080/",
          "height": 1000
        },
        "id": "XaEc6eZN_lWA",
        "outputId": "ae2ce0c2-252b-4f23-c4d5-56a05ec48312"
      },
      "outputs": [
        {
          "output_type": "display_data",
          "data": {
            "text/plain": [
              "<IPython.core.display.HTML object>"
            ],
            "text/html": [
              "\n",
              "<style>\n",
              "    /* Turns off some styling */\n",
              "    progress {\n",
              "        /* gets rid of default border in Firefox and Opera. */\n",
              "        border: none;\n",
              "        /* Needs to be in here for Safari polyfill so background images work as expected. */\n",
              "        background-size: auto;\n",
              "    }\n",
              "    progress:not([value]), progress:not([value])::-webkit-progress-bar {\n",
              "        background: repeating-linear-gradient(45deg, #7e7e7e, #7e7e7e 10px, #5c5c5c 10px, #5c5c5c 20px);\n",
              "    }\n",
              "    .progress-bar-interrupted, .progress-bar-interrupted::-webkit-progress-bar {\n",
              "        background: #F44336;\n",
              "    }\n",
              "</style>\n"
            ]
          },
          "metadata": {}
        },
        {
          "output_type": "display_data",
          "data": {
            "text/plain": [
              "<IPython.core.display.HTML object>"
            ],
            "text/html": [
              "Finish training epoch 0 with loss 0.3809<p>Finish validation epoch 0 with loss 0.8014 and score 0.8775<p>Improve validation accuracy from 0 to 0.8774999976158142<p>Finish training epoch 1 with loss 0.2175<p>Finish validation epoch 1 with loss 0.4439 and score 0.8825<p>Improve validation accuracy from 0.8774999976158142 to 0.8824999928474426<p>Finish training epoch 2 with loss 0.1815<p>Finish validation epoch 2 with loss 0.5080 and score 0.9000<p>Improve validation accuracy from 0.8824999928474426 to 0.8999999761581421<p>Finish training epoch 3 with loss 0.0913<p>Finish validation epoch 3 with loss 0.9194 and score 0.8650<p>Finish training epoch 4 with loss 0.0627<p>Finish validation epoch 4 with loss 0.5831 and score 0.8825<p>Finish training epoch 5 with loss 0.0519<p>Finish validation epoch 5 with loss 0.7091 and score 0.8825<p>Finish training epoch 6 with loss 0.0360<p>Finish validation epoch 6 with loss 0.7355 and score 0.9100<p>Improve validation accuracy from 0.8999999761581421 to 0.9100000262260437<p>Finish training epoch 7 with loss 0.0367<p>Finish validation epoch 7 with loss 0.7737 and score 0.9025<p>Finish training epoch 8 with loss 0.0126<p>Finish validation epoch 8 with loss 0.6402 and score 0.9000<p>Finish training epoch 9 with loss 0.0036<p>Finish validation epoch 9 with loss 0.6349 and score 0.9000<p>Finish training epoch 10 with loss 0.0023<p>Finish validation epoch 10 with loss 0.6123 and score 0.9000<p>Finish training epoch 11 with loss 0.0021<p>Finish validation epoch 11 with loss 0.6219 and score 0.9025<p>Finish training epoch 12 with loss 0.0012<p>Finish validation epoch 12 with loss 0.6195 and score 0.9025<p>Finish training epoch 13 with loss 0.0014<p>Finish validation epoch 13 with loss 0.6228 and score 0.9025<p>Finish training epoch 14 with loss 0.0013<p>Finish validation epoch 14 with loss 0.6311 and score 0.9025<p>Finish training epoch 15 with loss 0.0016<p>Finish validation epoch 15 with loss 0.6224 and score 0.9050<p>Finish training epoch 16 with loss 0.0013<p>Finish validation epoch 16 with loss 0.6277 and score 0.9050<p>Finish training epoch 17 with loss 0.0015<p>Finish validation epoch 17 with loss 0.6298 and score 0.9050<p>Finish training epoch 18 with loss 0.0016<p>Finish validation epoch 18 with loss 0.6239 and score 0.9050<p>Finish training epoch 19 with loss 0.0013<p>Finish validation epoch 19 with loss 0.6258 and score 0.9050"
            ]
          },
          "metadata": {}
        },
        {
          "output_type": "display_data",
          "data": {
            "text/plain": [
              "<Figure size 600x400 with 1 Axes>"
            ],
            "image/png": "[encoded data removed]"
          },
          "metadata": {}
        }
      ],
      "source": [
        "# Train student network - MobileNet V2 - without teacher\n",
        "os.chdir('/content')\n",
        "device = 'cuda' if torch.cuda.is_available() else 'cpu'\n",
        "model_3.to(device)\n",
        "save_path = ('../drive/MyDrive/VietAI_CV02/raw_mobilenet.pth')\n",
        "set_seed(42)\n",
        "os.chdir('./polyp_dataset_project10')\n",
        "model_3_optimizer = optimizer_adam(model_3)\n",
        "lr_scheduler = optim.lr_scheduler.ReduceLROnPlateau(model_3_optimizer, mode='min', factor=0.1, patience=5)\n",
        "full_training(model_3, save_path, cfg[\"MAX_EPOCHS\"], train_dataloader, val_dataloader, model_3_optimizer, loss_criteria, lr_scheduler, device)"
      ]
    },
    {
      "cell_type": "code",
      "execution_count": null,
      "metadata": {
        "colab": {
          "base_uri": "https://localhost:8080/"
        },
        "id": "SxkS74DirYMT",
        "outputId": "c0412beb-d704-4561-b913-c6b124bd330c"
      },
      "outputs": [
        {
          "output_type": "execute_result",
          "data": {
            "text/plain": [
              "<All keys matched successfully>"
            ]
          },
          "metadata": {},
          "execution_count": 38
        }
      ],
      "source": [
        "os.chdir('/content')\n",
        "set_seed(42)\n",
        "model_3 = CustomMobileNet().to(device)\n",
        "\n",
        "best_raw_mobilenet_state_dict = torch.load('./drive/MyDrive/VietAI_CV02/raw_mobilenet.pth')\n",
        "model_3.load_state_dict(best_raw_mobilenet_state_dict)"
      ]
    },
    {
      "cell_type": "code",
      "execution_count": null,
      "metadata": {
        "colab": {
          "base_uri": "https://localhost:8080/"
        },
        "id": "e7jWmYpKr8q0",
        "outputId": "224b02c2-782d-41bb-e539-e7236383632b"
      },
      "outputs": [
        {
          "output_type": "stream",
          "name": "stdout",
          "text": [
            "Testing Accuracy - Raw MobileNet_V2: 0.3571%\n"
          ]
        }
      ],
      "source": [
        "# Test MobileNet V2 without teacher\n",
        "os.chdir('/content/polyp_dataset_project10')\n",
        "print(f'Testing Accuracy - Raw MobileNet_V2: {testing_phase_single_class(model_3, test_dataloader, target_class_idx=0):.4f}%')"
      ]
    },
    {
      "cell_type": "code",
      "execution_count": null,
      "metadata": {
        "id": "H46a2C8FsZBo"
      },
      "outputs": [],
      "source": [
        "class CustomResNet18(nn.Module):\n",
        "  def __init__(self, num_classes=2):\n",
        "    super().__init__()\n",
        "    self.model = models.resnet18(weights=\"ResNet18_Weights.IMAGENET1K_V1\")\n",
        "    self.model.fc = nn.Linear(self.model.fc.in_features, num_classes)\n",
        "\n",
        "  def forward(self, input):\n",
        "    return self.model(input)"
      ]
    },
    {
      "cell_type": "code",
      "execution_count": null,
      "metadata": {
        "id": "tBux4itzxDa0"
      },
      "outputs": [],
      "source": [
        "device = 'cuda' if torch.cuda.is_available() else 'cpu'\n",
        "set_seed(42)\n",
        "raw_resnet18 = CustomResNet18().to(device)\n",
        "# print(raw_resnet18)"
      ]
    },
    {
      "cell_type": "code",
      "execution_count": null,
      "metadata": {
        "colab": {
          "base_uri": "https://localhost:8080/",
          "height": 1000
        },
        "id": "A8Mt3_6TsfBl",
        "outputId": "3aa6511a-e089-4957-b536-5da40d9896c3"
      },
      "outputs": [
        {
          "output_type": "display_data",
          "data": {
            "text/plain": [
              "<IPython.core.display.HTML object>"
            ],
            "text/html": [
              "\n",
              "<style>\n",
              "    /* Turns off some styling */\n",
              "    progress {\n",
              "        /* gets rid of default border in Firefox and Opera. */\n",
              "        border: none;\n",
              "        /* Needs to be in here for Safari polyfill so background images work as expected. */\n",
              "        background-size: auto;\n",
              "    }\n",
              "    progress:not([value]), progress:not([value])::-webkit-progress-bar {\n",
              "        background: repeating-linear-gradient(45deg, #7e7e7e, #7e7e7e 10px, #5c5c5c 10px, #5c5c5c 20px);\n",
              "    }\n",
              "    .progress-bar-interrupted, .progress-bar-interrupted::-webkit-progress-bar {\n",
              "        background: #F44336;\n",
              "    }\n",
              "</style>\n"
            ]
          },
          "metadata": {}
        },
        {
          "output_type": "display_data",
          "data": {
            "text/plain": [
              "<IPython.core.display.HTML object>"
            ],
            "text/html": [
              "Finish training epoch 0 with loss 0.4645<p>Finish validation epoch 0 with loss 1.1748 and score 0.8775<p>Improve validation accuracy from 0 to 0.8774999976158142<p>Finish training epoch 1 with loss 0.2630<p>Finish validation epoch 1 with loss 0.4462 and score 0.8800<p>Improve validation accuracy from 0.8774999976158142 to 0.8799999952316284<p>Finish training epoch 2 with loss 0.1992<p>Finish validation epoch 2 with loss 0.3765 and score 0.8925<p>Improve validation accuracy from 0.8799999952316284 to 0.8924999833106995<p>Finish training epoch 3 with loss 0.1769<p>Finish validation epoch 3 with loss 0.8225 and score 0.6375<p>Finish training epoch 4 with loss 0.1272<p>Finish validation epoch 4 with loss 0.4175 and score 0.8700<p>Finish training epoch 5 with loss 0.1109<p>Finish validation epoch 5 with loss 0.4722 and score 0.8900<p>Finish training epoch 6 with loss 0.0662<p>Finish validation epoch 6 with loss 0.6714 and score 0.9000<p>Improve validation accuracy from 0.8924999833106995 to 0.8999999761581421<p>Finish training epoch 7 with loss 0.0556<p>Finish validation epoch 7 with loss 0.5513 and score 0.8975<p>Finish training epoch 8 with loss 0.0733<p>Finish validation epoch 8 with loss 0.7462 and score 0.8975<p>Finish training epoch 9 with loss 0.0334<p>Finish validation epoch 9 with loss 0.5164 and score 0.9025<p>Improve validation accuracy from 0.8999999761581421 to 0.9024999737739563<p>Finish training epoch 10 with loss 0.0119<p>Finish validation epoch 10 with loss 0.4917 and score 0.9050<p>Improve validation accuracy from 0.9024999737739563 to 0.9049999713897705<p>Finish training epoch 11 with loss 0.0065<p>Finish validation epoch 11 with loss 0.4970 and score 0.9050<p>Finish training epoch 12 with loss 0.0064<p>Finish validation epoch 12 with loss 0.5119 and score 0.9050<p>Finish training epoch 13 with loss 0.0039<p>Finish validation epoch 13 with loss 0.5151 and score 0.9050<p>Finish training epoch 14 with loss 0.0039<p>Finish validation epoch 14 with loss 0.5249 and score 0.9075<p>Improve validation accuracy from 0.9049999713897705 to 0.9075000286102295<p>Finish training epoch 15 with loss 0.0038<p>Finish validation epoch 15 with loss 0.5291 and score 0.9075<p>Finish training epoch 16 with loss 0.0031<p>Finish validation epoch 16 with loss 0.5274 and score 0.9075<p>Finish training epoch 17 with loss 0.0034<p>Finish validation epoch 17 with loss 0.5302 and score 0.9075<p>Finish training epoch 18 with loss 0.0032<p>Finish validation epoch 18 with loss 0.5353 and score 0.9075<p>Finish training epoch 19 with loss 0.0028<p>Finish validation epoch 19 with loss 0.5351 and score 0.9075"
            ]
          },
          "metadata": {}
        },
        {
          "output_type": "stream",
          "name": "stderr",
          "text": [
            "/usr/local/lib/python3.10/dist-packages/torch/nn/modules/conv.py:456: UserWarning: Plan failed with a cudnnException: CUDNN_BACKEND_EXECUTION_PLAN_DESCRIPTOR: cudnnFinalize Descriptor Failed cudnn_status: CUDNN_STATUS_NOT_SUPPORTED (Triggered internally at ../aten/src/ATen/native/cudnn/Conv_v8.cpp:919.)\n",
            "  return F.conv2d(input, weight, bias, self.stride,\n"
          ]
        },
        {
          "output_type": "display_data",
          "data": {
            "text/plain": [
              "<Figure size 600x400 with 1 Axes>"
            ],
            "image/png": "[encoded data removed]"
          },
          "metadata": {}
        }
      ],
      "source": [
        "#Train student network - Resnet18 without teacher\n",
        "os.chdir('/content')\n",
        "device = 'cuda' if torch.cuda.is_available() else 'cpu'\n",
        "set_seed(42)\n",
        "raw_resnet18 = CustomResNet18().to(device)\n",
        "save_path = ('../drive/MyDrive/VietAI_CV02/raw_resnet18.pth')\n",
        "\n",
        "os.chdir('./polyp_dataset_project10')\n",
        "raw_resnet18_optimizer = optimizer_adam(raw_resnet18)\n",
        "lr_scheduler = optim.lr_scheduler.ReduceLROnPlateau(raw_resnet18_optimizer, mode='min', factor=0.1, patience=5)\n",
        "full_training(raw_resnet18, save_path, cfg[\"MAX_EPOCHS\"], train_dataloader, val_dataloader, raw_resnet18_optimizer, loss_criteria, lr_scheduler, device)\n"
      ]
    },
    {
      "cell_type": "code",
      "execution_count": null,
      "metadata": {
        "colab": {
          "base_uri": "https://localhost:8080/"
        },
        "id": "4h8AaruTvN_V",
        "outputId": "881da1bf-ae5d-4608-bf29-07f00ee4d1b4"
      },
      "outputs": [
        {
          "output_type": "execute_result",
          "data": {
            "text/plain": [
              "<All keys matched successfully>"
            ]
          },
          "metadata": {},
          "execution_count": 43
        }
      ],
      "source": [
        "os.chdir('/content')\n",
        "set_seed(42)\n",
        "raw_resnet18 = CustomResNet18().to(device)\n",
        "\n",
        "best_raw_resnet18_state_dict = torch.load('./drive/MyDrive/VietAI_CV02/raw_resnet18.pth')\n",
        "raw_resnet18.load_state_dict(best_raw_resnet18_state_dict)"
      ]
    },
    {
      "cell_type": "code",
      "execution_count": null,
      "metadata": {
        "colab": {
          "base_uri": "https://localhost:8080/"
        },
        "id": "BsQWImCyvcPB",
        "outputId": "f23aad41-bb7f-4192-f940-10eb51fb6993"
      },
      "outputs": [
        {
          "output_type": "stream",
          "name": "stdout",
          "text": [
            "Testing Accuracy - Raw Resnet18: 0.3095\n"
          ]
        }
      ],
      "source": [
        "# Test ResNet18 without teacher\n",
        "os.chdir('/content/polyp_dataset_project10')\n",
        "print(f'Testing Accuracy - Raw Resnet18: {testing_phase_single_class(raw_resnet18, test_dataloader, target_class_idx=0):.4f}')"
      ]
    },
    {
      "cell_type": "code",
      "execution_count": null,
      "metadata": {
        "id": "_OZAvbM16Wrg"
      },
      "outputs": [],
      "source": [
        "def train_distilled_epoch(epoch, teacher, student, train_dataloader, T, soft_loss_weight, optimizer, hard_loss_criteria=nn.CrossEntropyLoss(), device=None, mb=None, train_ratio=1.0):\n",
        "  training_loss = 0.0 # Soft loss with teacher + Hard loss with true labels\n",
        "  len_training_set = 0\n",
        "\n",
        "  # Set teacher to eval mode, student to train mode\n",
        "  teacher.eval()\n",
        "  student.train()\n",
        "\n",
        "  hard_loss_weight = 1 - soft_loss_weight\n",
        "\n",
        "  if train_ratio < 1.0:\n",
        "    sampler = get_balanced_sampler(train_dataloader.dataset, train_ratio)\n",
        "    train_dataloader = DataLoader(train_dataloader.dataset,\n",
        "                                      batch_size=train_dataloader.batch_size,\n",
        "                                      sampler=sampler,\n",
        "                                      num_workers=train_dataloader.num_workers,\n",
        "                                    pin_memory=True)\n",
        "\n",
        "\n",
        "  for batch_num, (images, labels) in enumerate(progress_bar(train_dataloader, parent=mb)):\n",
        "\n",
        "    images = images.to(device)\n",
        "    labels = labels.to(device)\n",
        "\n",
        "    optimizer.zero_grad()\n",
        "\n",
        "    teacher_logits = teacher(images)\n",
        "    student_logits = student(images)\n",
        "    teacher_soft_probs = F.softmax(teacher_logits/T, dim=-1)\n",
        "    student_log_probs = F.log_softmax(student_logits/T, dim=-1)\n",
        "\n",
        "    # Soft loss with teacher - kl divergence\n",
        "    soft_loss = soft_loss_weight * torch.sum(teacher_soft_probs * (teacher_soft_probs.log() - student_log_probs)) / teacher_soft_probs.size(0) * (T**2)\n",
        "\n",
        "    # Hard loss with labels\n",
        "    hard_loss = hard_loss_weight * hard_loss_criteria(student_logits, labels)\n",
        "\n",
        "    total_loss = soft_loss + hard_loss\n",
        "\n",
        "    total_loss.backward()\n",
        "\n",
        "    optimizer.step()\n",
        "\n",
        "    training_loss += total_loss.item() * images.size(0)\n",
        "\n",
        "    len_training_set += images.size(0)\n",
        "\n",
        "    # Clear intermediate variables\n",
        "    del images, labels, teacher_logits, student_logits, teacher_soft_probs, student_log_probs, soft_loss, hard_loss, total_loss\n",
        "\n",
        "    if torch.cuda.is_available():\n",
        "        torch.cuda.empty_cache()\n",
        "\n",
        "  mb.child.comment = f'Training loss: {training_loss/(batch_num+1)}'\n",
        "\n",
        "  return training_loss / len_training_set"
      ]
    },
    {
      "cell_type": "code",
      "execution_count": null,
      "metadata": {
        "id": "6IOvKiEjJgBK"
      },
      "outputs": [],
      "source": [
        "def distilled_knowledge_training(teacher_model, student_model, save_path, max_epochs, train_dataloader, val_dataloader, optimizer, loss_criteria, lr_scheduler, device, train_ratio=1.0):\n",
        "    best_acc = 0\n",
        "    training_losses = []\n",
        "    validation_losses = []\n",
        "    validation_score = []\n",
        "\n",
        "    # Config progress bar\n",
        "    mb = master_bar(range(max_epochs))\n",
        "    mb.names = ['Training loss', 'Validation loss', 'Validation Accuracy']\n",
        "    x = []\n",
        "\n",
        "    # Training mỗi epoch\n",
        "    for epoch in mb:\n",
        "        mb.main_bar.comment = f'Best accuracy score: {best_acc}'\n",
        "        x.append(epoch)\n",
        "\n",
        "        # Train\n",
        "        train_loss = train_distilled_epoch(epoch, teacher_model, student_model, train_dataloader, T=10, soft_loss_weight=0.8, optimizer=optimizer, hard_loss_criteria=loss_criteria, device=device, mb=mb, train_ratio=train_ratio)\n",
        "        mb.write('Finish training epoch {} with loss {:.4f}'.format(epoch, train_loss))\n",
        "        training_losses.append(train_loss)\n",
        "\n",
        "        # Evaluate\n",
        "        val_loss, new_accuracy = evaluation_epoch(epoch, student_model, val_dataloader, device, loss_criteria, mb)\n",
        "        mb.write('Finish validation epoch {} with loss {:.4f} and score {:.4f}'.format(epoch, val_loss, new_accuracy))\n",
        "        validation_losses.append(val_loss)\n",
        "        validation_score.append(new_accuracy)\n",
        "\n",
        "        # Clear cache after each evaluation epoch\n",
        "        torch.cuda.empty_cache()\n",
        "\n",
        "        # Cập nhật learning rate\n",
        "        lr_scheduler.step(val_loss)\n",
        "\n",
        "        # Cập nhật training chart\n",
        "        mb.update_graph([[x, training_losses], [x, validation_losses], [x, validation_score]], [0, max_epochs], [0, 1])\n",
        "\n",
        "        # Lưu model\n",
        "        if best_acc < new_accuracy:\n",
        "            mb.write(f\"Improve validation accuracy from {best_acc} to {new_accuracy}\")\n",
        "            best_acc = new_accuracy\n",
        "\n",
        "            # Lưu model: https://pytorch.org/tutorials/beginner/saving_loading_models.html\n",
        "            torch.save(student_model.state_dict(), save_path)\n",
        "\n",
        "        # Delete unnecessary variables to save GPU RAM\n",
        "        del train_loss, val_loss, new_accuracy\n",
        "\n",
        "    # Clear cache one last time\n",
        "    torch.cuda.empty_cache()\n"
      ]
    },
    {
      "cell_type": "code",
      "execution_count": null,
      "metadata": {
        "id": "XQtDyPkdJFLf",
        "colab": {
          "base_uri": "https://localhost:8080/",
          "height": 1000
        },
        "outputId": "e5216570-135f-4eda-9063-8af382fa266f"
      },
      "outputs": [
        {
          "output_type": "display_data",
          "data": {
            "text/plain": [
              "<IPython.core.display.HTML object>"
            ],
            "text/html": [
              "\n",
              "<style>\n",
              "    /* Turns off some styling */\n",
              "    progress {\n",
              "        /* gets rid of default border in Firefox and Opera. */\n",
              "        border: none;\n",
              "        /* Needs to be in here for Safari polyfill so background images work as expected. */\n",
              "        background-size: auto;\n",
              "    }\n",
              "    progress:not([value]), progress:not([value])::-webkit-progress-bar {\n",
              "        background: repeating-linear-gradient(45deg, #7e7e7e, #7e7e7e 10px, #5c5c5c 10px, #5c5c5c 20px);\n",
              "    }\n",
              "    .progress-bar-interrupted, .progress-bar-interrupted::-webkit-progress-bar {\n",
              "        background: #F44336;\n",
              "    }\n",
              "</style>\n"
            ]
          },
          "metadata": {}
        },
        {
          "output_type": "display_data",
          "data": {
            "text/plain": [
              "<IPython.core.display.HTML object>"
            ],
            "text/html": [
              "Finish training epoch 0 with loss 3.3637<p>Finish validation epoch 0 with loss 1.0861 and score 0.8825<p>Improve validation accuracy from 0 to 0.8824999928474426<p>Finish training epoch 1 with loss 1.5451<p>Finish validation epoch 1 with loss 0.7465 and score 0.8925<p>Improve validation accuracy from 0.8824999928474426 to 0.8924999833106995<p>Finish training epoch 2 with loss 1.0894<p>Finish validation epoch 2 with loss 0.5649 and score 0.9000<p>Improve validation accuracy from 0.8924999833106995 to 0.8999999761581421<p>Finish training epoch 3 with loss 0.6789<p>Finish validation epoch 3 with loss 0.4614 and score 0.9050<p>Improve validation accuracy from 0.8999999761581421 to 0.9049999713897705<p>Finish training epoch 4 with loss 0.4260<p>Finish validation epoch 4 with loss 0.6245 and score 0.9025<p>Finish training epoch 5 with loss 0.3380<p>Finish validation epoch 5 with loss 0.4806 and score 0.8975<p>Finish training epoch 6 with loss 0.2230<p>Finish validation epoch 6 with loss 0.6004 and score 0.9050<p>Finish training epoch 7 with loss 0.1924<p>Finish validation epoch 7 with loss 0.4927 and score 0.9050<p>Finish training epoch 8 with loss 0.1874<p>Finish validation epoch 8 with loss 0.5507 and score 0.9050<p>Finish training epoch 9 with loss 0.1377<p>Finish validation epoch 9 with loss 0.5509 and score 0.9075<p>Improve validation accuracy from 0.9049999713897705 to 0.9075000286102295<p>Finish training epoch 10 with loss 0.1183<p>Finish validation epoch 10 with loss 0.5161 and score 0.9075<p>Finish training epoch 11 with loss 0.1002<p>Finish validation epoch 11 with loss 0.5186 and score 0.9050<p>Finish training epoch 12 with loss 0.0795<p>Finish validation epoch 12 with loss 0.5174 and score 0.9050<p>Finish training epoch 13 with loss 0.0727<p>Finish validation epoch 13 with loss 0.5261 and score 0.9050<p>Finish training epoch 14 with loss 0.0528<p>Finish validation epoch 14 with loss 0.5182 and score 0.9050<p>Finish training epoch 15 with loss 0.1063<p>Finish validation epoch 15 with loss 0.5336 and score 0.9025<p>Finish training epoch 16 with loss 0.0565<p>Finish validation epoch 16 with loss 0.5106 and score 0.9075<p>Finish training epoch 17 with loss 0.0624<p>Finish validation epoch 17 with loss 0.5064 and score 0.9075<p>Finish training epoch 18 with loss 0.0794<p>Finish validation epoch 18 with loss 0.5071 and score 0.9050<p>Finish training epoch 19 with loss 0.0387<p>Finish validation epoch 19 with loss 0.5156 and score 0.9050"
            ]
          },
          "metadata": {}
        },
        {
          "output_type": "display_data",
          "data": {
            "text/plain": [
              "<Figure size 600x400 with 1 Axes>"
            ],
            "image/png": "[encoded data removed]"
          },
          "metadata": {}
        }
      ],
      "source": [
        "set_seed(42)\n",
        "teacher = CustomResNet50().to(device)\n",
        "best_teacher_state_dict = torch.load('/content/drive/MyDrive/VietAI_CV02/resnet.pth')\n",
        "teacher.load_state_dict(best_teacher_state_dict)\n",
        "\n",
        "student = CustomResNet18().to(device)\n",
        "save_path = ('../drive/MyDrive/VietAI_CV02/distilled_resnet18.pth')\n",
        "\n",
        "os.chdir('/content/polyp_dataset_project10')\n",
        "student_optimizer = optimizer_adam(student)\n",
        "lr_scheduler = optim.lr_scheduler.ReduceLROnPlateau(student_optimizer, mode='min', factor=0.1, patience=5)\n",
        "distilled_knowledge_training(teacher, student , save_path, cfg[\"MAX_EPOCHS\"], train_dataloader, val_dataloader, student_optimizer, loss_criteria, lr_scheduler, device)"
      ]
    },
    {
      "cell_type": "code",
      "source": [
        "student_test = CustomResNet18().to(device)\n",
        "student_test.load_state_dict(torch.load('/content/drive/MyDrive/VietAI_CV02/distilled_resnet18.pth'))\n",
        "print(f'Testing Accuracy on class 0 of raw ResNet18: {testing_phase_single_class(raw_resnet18, test_dataloader, target_class_idx=0):.4f}%' )\n",
        "print(f'Testing Accuracy on class 0 of student ResNet18: {testing_phase_single_class(student_test, test_dataloader, target_class_idx=0):.4f}%')\n",
        "\n",
        "print(f'Testing Accuracy on class 1 of raw ResNet18: {testing_phase_single_class(raw_resnet18, test_dataloader, target_class_idx=1):.4f}%' )\n",
        "print(f'Testing Accuracy on class 1 of student ResNet18: {testing_phase_single_class(student_test, test_dataloader, target_class_idx=1):.4f}%')\n",
        "\n",
        "print(f'Testing Accuracy of raw ResNet18: {testing_phase(raw_resnet18, test_dataloader):.4f}%' )\n",
        "print(f'Testing Accuracy of student ResNet18: {testing_phase(student_test, test_dataloader):.4f}%')"
      ],
      "metadata": {
        "colab": {
          "base_uri": "https://localhost:8080/"
        },
        "id": "LQZErzenDuMv",
        "outputId": "1f0f8d4b-1724-4396-9f20-21dfa289c157"
      },
      "execution_count": null,
      "outputs": [
        {
          "output_type": "stream",
          "name": "stdout",
          "text": [
            "Testing Accuracy on class 0 of raw ResNet18: 0.3095%\n",
            "Testing Accuracy on class 0 of student ResNet18: 0.3810%\n",
            "Testing Accuracy on class 1 of raw ResNet18: 0.9749%\n",
            "Testing Accuracy on class 1 of student ResNet18: 0.9860%\n",
            "Testing Accuracy of raw ResNet18: 0.9050%\n",
            "Testing Accuracy of student ResNet18: 0.9225%\n"
          ]
        }
      ]
    },
    {
      "cell_type": "code",
      "source": [
        "set_seed(42)\n",
        "student_mobile = CustomMobileNet().to(device)\n",
        "save_path = ('../drive/MyDrive/VietAI_CV02/distilled_mobilenet.pth')\n",
        "\n",
        "os.chdir('/content/polyp_dataset_project10')\n",
        "student_mobile_optimizer = optimizer_adam(student_mobile)\n",
        "lr_scheduler = optim.lr_scheduler.ReduceLROnPlateau(student_mobile_optimizer, mode='min', factor=0.1, patience=5)\n",
        "distilled_knowledge_training(teacher, student_mobile, save_path, cfg[\"MAX_EPOCHS\"], train_dataloader, val_dataloader, student_mobile_optimizer, loss_criteria, lr_scheduler, device)"
      ],
      "metadata": {
        "colab": {
          "base_uri": "https://localhost:8080/",
          "height": 1000
        },
        "id": "3scCcju0OkGN",
        "outputId": "92bb8860-c997-4577-bc3a-4cb3f8ec2eba"
      },
      "execution_count": null,
      "outputs": [
        {
          "output_type": "display_data",
          "data": {
            "text/plain": [
              "<IPython.core.display.HTML object>"
            ],
            "text/html": [
              "\n",
              "<style>\n",
              "    /* Turns off some styling */\n",
              "    progress {\n",
              "        /* gets rid of default border in Firefox and Opera. */\n",
              "        border: none;\n",
              "        /* Needs to be in here for Safari polyfill so background images work as expected. */\n",
              "        background-size: auto;\n",
              "    }\n",
              "    progress:not([value]), progress:not([value])::-webkit-progress-bar {\n",
              "        background: repeating-linear-gradient(45deg, #7e7e7e, #7e7e7e 10px, #5c5c5c 10px, #5c5c5c 20px);\n",
              "    }\n",
              "    .progress-bar-interrupted, .progress-bar-interrupted::-webkit-progress-bar {\n",
              "        background: #F44336;\n",
              "    }\n",
              "</style>\n"
            ]
          },
          "metadata": {}
        },
        {
          "output_type": "display_data",
          "data": {
            "text/plain": [
              "<IPython.core.display.HTML object>"
            ],
            "text/html": [
              "Finish training epoch 0 with loss 2.9549<p>Finish validation epoch 0 with loss 0.7895 and score 0.8775<p>Improve validation accuracy from 0 to 0.8774999976158142<p>Finish training epoch 1 with loss 1.7086<p>Finish validation epoch 1 with loss 0.5951 and score 0.9025<p>Improve validation accuracy from 0.8774999976158142 to 0.9024999737739563<p>Finish training epoch 2 with loss 1.0720<p>Finish validation epoch 2 with loss 0.5830 and score 0.8875<p>Finish training epoch 3 with loss 0.7303<p>Finish validation epoch 3 with loss 0.7242 and score 0.9050<p>Improve validation accuracy from 0.9024999737739563 to 0.9049999713897705<p>Finish training epoch 4 with loss 0.5256<p>Finish validation epoch 4 with loss 0.6653 and score 0.8975<p>Finish training epoch 5 with loss 0.3693<p>Finish validation epoch 5 with loss 0.6454 and score 0.9075<p>Improve validation accuracy from 0.9049999713897705 to 0.9075000286102295<p>Finish training epoch 6 with loss 0.2814<p>Finish validation epoch 6 with loss 0.5417 and score 0.8925<p>Finish training epoch 7 with loss 0.2568<p>Finish validation epoch 7 with loss 0.5140 and score 0.9050<p>Finish training epoch 8 with loss 0.1947<p>Finish validation epoch 8 with loss 0.5762 and score 0.9000<p>Finish training epoch 9 with loss 0.1577<p>Finish validation epoch 9 with loss 0.5488 and score 0.9075<p>Finish training epoch 10 with loss 0.1889<p>Finish validation epoch 10 with loss 0.5118 and score 0.9025<p>Finish training epoch 11 with loss 0.1069<p>Finish validation epoch 11 with loss 0.4861 and score 0.9000<p>Finish training epoch 12 with loss 0.1288<p>Finish validation epoch 12 with loss 0.4475 and score 0.9125<p>Improve validation accuracy from 0.9075000286102295 to 0.9125000238418579<p>Finish training epoch 13 with loss 0.1667<p>Finish validation epoch 13 with loss 0.5426 and score 0.9100<p>Finish training epoch 14 with loss 0.1194<p>Finish validation epoch 14 with loss 0.5055 and score 0.9100<p>Finish training epoch 15 with loss 0.1389<p>Finish validation epoch 15 with loss 0.4610 and score 0.9050<p>Finish training epoch 16 with loss 0.1524<p>Finish validation epoch 16 with loss 0.5427 and score 0.9050<p>Finish training epoch 17 with loss 0.1161<p>Finish validation epoch 17 with loss 0.4786 and score 0.9100<p>Finish training epoch 18 with loss 0.1030<p>Finish validation epoch 18 with loss 0.5506 and score 0.9025<p>Finish training epoch 19 with loss 0.1110<p>Finish validation epoch 19 with loss 0.4821 and score 0.9050"
            ]
          },
          "metadata": {}
        },
        {
          "output_type": "display_data",
          "data": {
            "text/plain": [
              "<Figure size 600x400 with 1 Axes>"
            ],
            "image/png": "[encoded data removed]"
          },
          "metadata": {}
        }
      ]
    },
    {
      "cell_type": "code",
      "source": [
        "student_mobilenet = CustomMobileNet().to(device)\n",
        "student_mobilenet.load_state_dict(torch.load('/content/drive/MyDrive/VietAI_CV02/distilled_mobilenet.pth'))\n",
        "\n",
        "raw_mobilenet = CustomMobileNet().to(device)\n",
        "raw_mobilenet.load_state_dict(torch.load('/content/drive/MyDrive/VietAI_CV02/raw_mobilenet.pth'))\n",
        "\n",
        "\n",
        "print(f'Testing Accuracy on class 0 of raw MobileNet {testing_phase_single_class(raw_mobilenet, test_dataloader, target_class_idx=0):.4f}%' )\n",
        "print(f'Testing Accuracy on class 0 of student MobileNet: {testing_phase_single_class(student_mobilenet, test_dataloader, target_class_idx=0):.4f}%')\n",
        "\n",
        "print(f'Testing Accuracy on class 1 of raw MobileNet: {testing_phase_single_class(raw_mobilenet, test_dataloader, target_class_idx=1):.4f}%' )\n",
        "print(f'Testing Accuracy on class 1 of student MobileNet: {testing_phase_single_class(student_mobilenet, test_dataloader, target_class_idx=1):.4f}%')\n",
        "\n",
        "print(f'Testing Accuracy of raw MobileNet: {testing_phase(raw_mobilenet, test_dataloader):.4f}%' )\n",
        "print(f'Testing Accuracy of student MobileNet: {testing_phase(student_mobilenet, test_dataloader):.4f}%')"
      ],
      "metadata": {
        "colab": {
          "base_uri": "https://localhost:8080/"
        },
        "id": "PjU7wh-KQnl8",
        "outputId": "461b8688-d9fa-4a00-f242-3466f601f820"
      },
      "execution_count": null,
      "outputs": [
        {
          "output_type": "stream",
          "name": "stdout",
          "text": [
            "Testing Accuracy on class 0 of raw MobileNet 0.3571%\n",
            "Testing Accuracy on class 0 of student MobileNet: 0.3333%\n",
            "Testing Accuracy on class 1 of raw MobileNet: 0.9777%\n",
            "Testing Accuracy on class 1 of student MobileNet: 0.9860%\n",
            "Testing Accuracy of raw MobileNet: 0.9125%\n",
            "Testing Accuracy of student MobileNet: 0.9175%\n"
          ]
        }
      ]
    }
  ],
  "metadata": {
    "accelerator": "GPU",
    "colab": {
      "gpuType": "A100",
      "machine_shape": "hm",
      "provenance": [],
      "include_colab_link": true
    },
    "kernelspec": {
      "display_name": "Python 3",
      "name": "python3"
    }
  },
  "nbformat": 4,
  "nbformat_minor": 0
}